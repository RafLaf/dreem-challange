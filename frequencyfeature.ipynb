{
 "cells": [
  {
   "cell_type": "code",
   "execution_count": 65,
   "metadata": {},
   "outputs": [],
   "source": [
    "import pandas as pd\n",
    "import numpy as np\n",
    "import h5py\n",
    "import matplotlib.pyplot as plt\n",
    "import mne\n",
    "\n",
    "filename = \"X_train/X_train.h5\"\n",
    "\n",
    "eggs = []\n",
    "for i in range(1, 8):\n",
    "    np_array = np.array(h5py.File(filename, mode='r')['eeg_'+str(i)])\n",
    "    eggs.append(np_array)"
   ]
  },
  {
   "cell_type": "code",
   "execution_count": 66,
   "metadata": {},
   "outputs": [
    {
     "name": "stdout",
     "output_type": "stream",
     "text": [
      "occurence sleep stage 0 3511\n",
      "occurence sleep stage 1 1671\n",
      "occurence sleep stage 2 9449\n",
      "occurence sleep stage 3 5224\n",
      "occurence sleep stage 4 4833\n"
     ]
    }
   ],
   "source": [
    "filename='y_train.csv'\n",
    "\n",
    "ytrain=np.array(pd.read_csv(filename))\n",
    "for i in range(5):\n",
    "    print('occurence sleep stage',i,np.count_nonzero(ytrain[:,1]== i))"
   ]
  },
  {
   "cell_type": "code",
   "execution_count": 67,
   "metadata": {},
   "outputs": [],
   "source": [
    "def extractfbands(eeg,cuts):\n",
    "    L=list()\n",
    "    s=eeg.shape\n",
    "    idcut=int(s[1]/cuts)\n",
    "    freq=np.fft.fftfreq(idcut,1/50)[:int(s[1]/2)]\n",
    "    print(freq.shape)\n",
    "    for i in range(cuts):\n",
    "        print(i)\n",
    "        FFT=np.fft.fft(eeg[:,i*idcut:(i+1)*idcut],axis=1)[:,:int(s[1]/2)]\n",
    "        FFT=abs(FFT)**2\n",
    "        delta=np.sum(FFT[:,np.where((freq<4)*(freq>0))],axis=2)\n",
    "        theta=np.sum(FFT[:,np.where((freq>4)* (freq<8))],axis=2)\n",
    "        alpha=np.sum(FFT[:,np.where((freq>8)* (freq<13))],axis=2)\n",
    "        beta=np.sum(FFT[:,np.where((freq>13 )* (freq<22))],axis=2)\n",
    "        gamma=np.sum(FFT[:,np.where(freq>22)],axis=2)\n",
    "        L.append( np.array([delta,theta,alpha,beta,gamma]))\n",
    "    return np.array(L)\n",
    "\n",
    "\n",
    "    "
   ]
  },
  {
   "cell_type": "code",
   "execution_count": 68,
   "metadata": {},
   "outputs": [
    {
     "name": "stdout",
     "output_type": "stream",
     "text": [
      "(500,)\n",
      "0\n",
      "1\n",
      "2\n"
     ]
    }
   ],
   "source": [
    "eeg1band=extractfbands(eggs[0],3)\n"
   ]
  },
  {
   "cell_type": "code",
   "execution_count": 71,
   "metadata": {},
   "outputs": [
    {
     "name": "stdout",
     "output_type": "stream",
     "text": [
      "(500,)\n",
      "0\n",
      "1\n",
      "2\n",
      "(500,)\n",
      "0\n",
      "1\n",
      "2\n",
      "(500,)\n",
      "0\n",
      "1\n",
      "2\n",
      "(500,)\n",
      "0\n",
      "1\n",
      "2\n",
      "(500,)\n",
      "0\n",
      "1\n",
      "2\n",
      "(500,)\n",
      "0\n",
      "1\n",
      "2\n",
      "(500,)\n",
      "0\n",
      "1\n",
      "2\n"
     ]
    }
   ],
   "source": [
    "L=list()\n",
    "for i in range(7):\n",
    "    L.append(extractfbands(eggs[i],3))\n",
    "L=np.array(L)"
   ]
  },
  {
   "cell_type": "code",
   "execution_count": 72,
   "metadata": {},
   "outputs": [
    {
     "data": {
      "text/plain": [
       "(7, 3, 5, 24688, 1)"
      ]
     },
     "execution_count": 72,
     "metadata": {},
     "output_type": "execute_result"
    }
   ],
   "source": [
    "L.shape"
   ]
  },
  {
   "cell_type": "code",
   "execution_count": 73,
   "metadata": {},
   "outputs": [
    {
     "name": "stdout",
     "output_type": "stream",
     "text": [
      "(7, 3, 5, 24688)\n",
      "(24688, 7, 3, 5)\n"
     ]
    }
   ],
   "source": [
    "L2=np.reshape(L,(7,3,5,24688))\n",
    "print(L2.shape)\n",
    "rearranged_L = np.moveaxis(L2,[3],[0])\n",
    "print(rearranged_L.shape)\n"
   ]
  },
  {
   "cell_type": "code",
   "execution_count": 74,
   "metadata": {},
   "outputs": [],
   "source": [
    "final_L=np.reshape(rearranged_L,(24688,7,15))\n",
    "final_L=np.reshape(final_L,(24688,7*15))"
   ]
  },
  {
   "cell_type": "code",
   "execution_count": 76,
   "metadata": {},
   "outputs": [],
   "source": [
    "np.save(\"foo.npy\", np.array(final_L))"
   ]
  }
 ],
 "metadata": {
  "kernelspec": {
   "display_name": "Python 3",
   "language": "python",
   "name": "python3"
  },
  "language_info": {
   "codemirror_mode": {
    "name": "ipython",
    "version": 3
   },
   "file_extension": ".py",
   "mimetype": "text/x-python",
   "name": "python",
   "nbconvert_exporter": "python",
   "pygments_lexer": "ipython3",
   "version": "3.8.5"
  }
 },
 "nbformat": 4,
 "nbformat_minor": 4
}
